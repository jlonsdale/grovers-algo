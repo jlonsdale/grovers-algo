{
 "cells": [
  {
   "cell_type": "code",
   "execution_count": 1,
   "id": "6d1c866e",
   "metadata": {},
   "outputs": [],
   "source": [
    "import numpy as np\n",
    "import matplotlib.pyplot as plt\n",
    "import qutip as qt"
   ]
  },
  {
   "cell_type": "markdown",
   "id": "cb6f0a59",
   "metadata": {},
   "source": [
    "# Grovers Algorithm \n",
    "## Introduction\n",
    "\n",
    "Time complexity is a representation of the time taken by an algorithm to solve a problem as a function relative to the size of the input data. This property is commonly expressed in $\\mathcal{O}$ (\"Big O\") notation which represents the upper bound of the number of steps needed to solve the problem.\n",
    "\n",
    "If you have $N$ randomly ordered elements and you need to find a particular element, in classical computing the time complexity is $\\mathcal{O}(N)$.\n",
    "\n",
    "In the context of quantum computing, Grover's algorithm seeks to find a particular element with $\\mathcal{O}(\\sqrt{N})$ time complexity. The decreased time complexity is due to the superposition of states, which allows for simultaneous examination of multiple elements.\n",
    "\n",
    "This report aims to examine Grovers Algorithm and create an executable demo using 'qutip' (Quantum Toolbox in Python)\n",
    "\n",
    "by Jessie Lonsdale and Anastasios Mavridis."
   ]
  },
  {
   "cell_type": "code",
   "execution_count": 15,
   "id": "7c592a77",
   "metadata": {},
   "outputs": [
    {
     "name": "stderr",
     "output_type": "stream",
     "text": [
      "C:\\Users\\lonsd\\AppData\\Local\\Temp\\ipykernel_5508\\3418106330.py:7: DeprecationWarning: Importing functions/classes of the qip submodule directly from the namespace qutip is deprecated. Please import them from the submodule instead, e.g.\n",
      "from qutip.qip.operations import cnot\n",
      "from qutip.qip.circuit import QubitCircuit\n",
      "\n",
      "  hadamard = qt.hadamard_transform(n)\n"
     ]
    },
    {
     "ename": "TypeError",
     "evalue": "Incompatible quantum object dimensions",
     "output_type": "error",
     "traceback": [
      "\u001b[1;31m-------------------------------------------------------------------------\u001b[0m",
      "\u001b[1;31mTypeError\u001b[0m                               Traceback (most recent call last)",
      "Cell \u001b[1;32mIn [15], line 9\u001b[0m\n\u001b[0;32m      7\u001b[0m hadamard \u001b[38;5;241m=\u001b[39m qt\u001b[38;5;241m.\u001b[39mhadamard_transform(n)\n\u001b[0;32m      8\u001b[0m oracle \u001b[38;5;241m=\u001b[39m qt\u001b[38;5;241m.\u001b[39mqdiags([\u001b[38;5;241m1\u001b[39m \u001b[38;5;28;01mif\u001b[39;00m i \u001b[38;5;241m==\u001b[39m \u001b[38;5;241m3\u001b[39m \u001b[38;5;28;01melse\u001b[39;00m \u001b[38;5;241m-\u001b[39m\u001b[38;5;241m1\u001b[39m \u001b[38;5;28;01mfor\u001b[39;00m i \u001b[38;5;129;01min\u001b[39;00m \u001b[38;5;28mrange\u001b[39m(N)], \u001b[38;5;241m0\u001b[39m)\n\u001b[1;32m----> 9\u001b[0m diffusion \u001b[38;5;241m=\u001b[39m \u001b[38;5;241;43m2\u001b[39;49m\u001b[43m \u001b[49m\u001b[38;5;241;43m*\u001b[39;49m\u001b[43m \u001b[49m\u001b[43mqt\u001b[49m\u001b[38;5;241;43m.\u001b[39;49m\u001b[43mket2dm\u001b[49m\u001b[43m(\u001b[49m\u001b[43mqt\u001b[49m\u001b[38;5;241;43m.\u001b[39;49m\u001b[43mtensor\u001b[49m\u001b[43m(\u001b[49m\u001b[43mqt\u001b[49m\u001b[38;5;241;43m.\u001b[39;49m\u001b[43mbasis\u001b[49m\u001b[43m(\u001b[49m\u001b[38;5;241;43m2\u001b[39;49m\u001b[43m,\u001b[49m\u001b[38;5;241;43m1\u001b[39;49m\u001b[43m)\u001b[49m\u001b[43m,\u001b[49m\u001b[43m \u001b[49m\u001b[43mqt\u001b[49m\u001b[38;5;241;43m.\u001b[39;49m\u001b[43mbasis\u001b[49m\u001b[43m(\u001b[49m\u001b[38;5;241;43m2\u001b[39;49m\u001b[43m,\u001b[49m\u001b[38;5;241;43m1\u001b[39;49m\u001b[43m)\u001b[49m\u001b[43m)\u001b[49m\u001b[43m)\u001b[49m\u001b[43m \u001b[49m\u001b[38;5;241;43m-\u001b[39;49m\u001b[43m \u001b[49m\u001b[43mnp\u001b[49m\u001b[38;5;241;43m.\u001b[39;49m\u001b[43meye\u001b[49m\u001b[43m(\u001b[49m\u001b[43mN\u001b[49m\u001b[43m)\u001b[49m\n\u001b[0;32m     11\u001b[0m \u001b[38;5;66;03m# Define the number of iterations of the algorithm\u001b[39;00m\n\u001b[0;32m     12\u001b[0m num_iterations \u001b[38;5;241m=\u001b[39m \u001b[38;5;28mint\u001b[39m(np\u001b[38;5;241m.\u001b[39mpi \u001b[38;5;241m/\u001b[39m \u001b[38;5;241m4\u001b[39m \u001b[38;5;241m*\u001b[39m np\u001b[38;5;241m.\u001b[39msqrt(N))\n",
      "File \u001b[1;32m~\\AppData\\Local\\Packages\\PythonSoftwareFoundation.Python.3.10_qbz5n2kfra8p0\\LocalCache\\local-packages\\Python310\\site-packages\\qutip\\qobj.py:476\u001b[0m, in \u001b[0;36mQobj.__sub__\u001b[1;34m(self, other)\u001b[0m\n\u001b[0;32m    472\u001b[0m \u001b[38;5;28;01mdef\u001b[39;00m \u001b[38;5;21m__sub__\u001b[39m(\u001b[38;5;28mself\u001b[39m, other):\n\u001b[0;32m    473\u001b[0m     \u001b[38;5;124;03m\"\"\"\u001b[39;00m\n\u001b[0;32m    474\u001b[0m \u001b[38;5;124;03m    SUBTRACTION with Qobj on LEFT [ ex. Qobj-4 ]\u001b[39;00m\n\u001b[0;32m    475\u001b[0m \u001b[38;5;124;03m    \"\"\"\u001b[39;00m\n\u001b[1;32m--> 476\u001b[0m     \u001b[38;5;28;01mreturn\u001b[39;00m \u001b[38;5;28;43mself\u001b[39;49m\u001b[43m \u001b[49m\u001b[38;5;241;43m+\u001b[39;49m\u001b[43m \u001b[49m\u001b[43m(\u001b[49m\u001b[38;5;241;43m-\u001b[39;49m\u001b[43mother\u001b[49m\u001b[43m)\u001b[49m\n",
      "File \u001b[1;32m~\\AppData\\Local\\Packages\\PythonSoftwareFoundation.Python.3.10_qbz5n2kfra8p0\\LocalCache\\local-packages\\Python310\\site-packages\\qutip\\qobj.py:435\u001b[0m, in \u001b[0;36mQobj.__add__\u001b[1;34m(self, other)\u001b[0m\n\u001b[0;32m    432\u001b[0m     \u001b[38;5;28;01mreturn\u001b[39;00m out\n\u001b[0;32m    434\u001b[0m \u001b[38;5;28;01melif\u001b[39;00m \u001b[38;5;28mself\u001b[39m\u001b[38;5;241m.\u001b[39mdims \u001b[38;5;241m!=\u001b[39m other\u001b[38;5;241m.\u001b[39mdims:\n\u001b[1;32m--> 435\u001b[0m     \u001b[38;5;28;01mraise\u001b[39;00m \u001b[38;5;167;01mTypeError\u001b[39;00m(\u001b[38;5;124m'\u001b[39m\u001b[38;5;124mIncompatible quantum object dimensions\u001b[39m\u001b[38;5;124m'\u001b[39m)\n\u001b[0;32m    437\u001b[0m \u001b[38;5;28;01melif\u001b[39;00m \u001b[38;5;28mself\u001b[39m\u001b[38;5;241m.\u001b[39mshape \u001b[38;5;241m!=\u001b[39m other\u001b[38;5;241m.\u001b[39mshape:\n\u001b[0;32m    438\u001b[0m     \u001b[38;5;28;01mraise\u001b[39;00m \u001b[38;5;167;01mTypeError\u001b[39;00m(\u001b[38;5;124m'\u001b[39m\u001b[38;5;124mMatrix shapes do not match\u001b[39m\u001b[38;5;124m'\u001b[39m)\n",
      "\u001b[1;31mTypeError\u001b[0m: Incompatible quantum object dimensions"
     ]
    }
   ],
   "source": [
    "# Define the size of the search space and the target state\n",
    "n = 2  # number of qubits\n",
    "N = 2**n  # size of the search space\n",
    "target_state = qt.tensor(qt.basis(2,1), qt.basis(2,1))  # the target state we want to find\n",
    "\n",
    "# Create the quantum gates needed for Grover's algorithm\n",
    "hadamard = qt.hadamard_transform(n)\n",
    "oracle = qt.qdiags([1 if i == 3 else -1 for i in range(N)], 0)\n",
    "diffusion = 2 * qt.ket2dm(qt.tensor(qt.basis(2,1), qt.basis(2,1))) - np.eye(N)\n",
    "\n",
    "# Define the number of iterations of the algorithm\n",
    "num_iterations = int(np.pi / 4 * np.sqrt(N))\n",
    "\n",
    "# Apply Grover's algorithm\n",
    "state = qt.tensor(hadamard, qt.basis(N, 0))\n",
    "for i in range(num_iterations):\n",
    "    state = diffusion * oracle * state\n",
    "\n",
    "# Measure the final state\n",
    "measurement = qt.measure(state.ptrace(0), qt.basis(N, 0))\n",
    "print(\"Measured state:\", measurement)\n",
    "\n"
   ]
  },
  {
   "cell_type": "code",
   "execution_count": null,
   "id": "5001d263",
   "metadata": {},
   "outputs": [],
   "source": []
  },
  {
   "cell_type": "code",
   "execution_count": null,
   "id": "36804eca",
   "metadata": {},
   "outputs": [],
   "source": []
  }
 ],
 "metadata": {
  "kernelspec": {
   "display_name": "Python 3 (ipykernel)",
   "language": "python",
   "name": "python3"
  },
  "language_info": {
   "codemirror_mode": {
    "name": "ipython",
    "version": 3
   },
   "file_extension": ".py",
   "mimetype": "text/x-python",
   "name": "python",
   "nbconvert_exporter": "python",
   "pygments_lexer": "ipython3",
   "version": "3.10.11"
  }
 },
 "nbformat": 4,
 "nbformat_minor": 5
}

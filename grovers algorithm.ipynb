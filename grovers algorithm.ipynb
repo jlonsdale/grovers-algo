{
 "cells": [
  {
   "cell_type": "code",
   "execution_count": 116,
   "id": "6d1c866e",
   "metadata": {},
   "outputs": [],
   "source": [
    "import numpy as np\n",
    "import matplotlib.pyplot as plt\n",
    "import qutip as qt\n",
    "import math as math\n",
    "from qutip.qip.operations import cnot\n",
    "from qutip.qip.circuit import QubitCircuit"
   ]
  },
  {
   "cell_type": "markdown",
   "id": "cb6f0a59",
   "metadata": {},
   "source": [
    "# Grovers Algorithm \n",
    "## Introduction\n",
    "\n",
    "Time complexity is a representation of the time taken by an algorithm to solve a problem as a function relative to the size of the input data. This property is commonly expressed in $\\mathcal{O}$ (\"Big O\") notation which represents the upper bound of the number of steps needed to solve the problem.\n",
    "\n",
    "If you have $N$ randomly ordered elements and you need to find a particular element, in classical computing the time complexity is $\\mathcal{O}(N)$.\n",
    "\n",
    "In the context of quantum computing, Grover's algorithm seeks to find a particular element with $\\mathcal{O}(\\sqrt{N})$ time complexity. The decreased time complexity is due to the superposition of states, which allows for simultaneous examination of multiple elements.\n",
    "\n",
    "This report aims to examine Grovers Algorithm and create an executable demo using 'qutip' (Quantum Toolbox in Python)\n",
    "\n",
    "by Jessie Lonsdale and Anastasios Mavridis."
   ]
  },
  {
   "cell_type": "code",
   "execution_count": 2,
   "id": "7c592a77",
   "metadata": {},
   "outputs": [],
   "source": [
    "def generate_search_problem(length):\n",
    "    haystack = '0' * int(math.pow(2,length))\n",
    "    needle = np.random.randint(0,int(math.pow(2,length))-1)\n",
    "    return (haystack[:needle]+'1'+haystack[needle + 1:]), needle"
   ]
  },
  {
   "cell_type": "code",
   "execution_count": 105,
   "id": "5001d263",
   "metadata": {},
   "outputs": [],
   "source": [
    "def grovers_circuit(haystack,needle):\n",
    "    string_length = int(len(haystack))\n",
    "    number_of_qubits = int(math.log(string_length, 2))\n",
    "    \n",
    "    # Initialize data qubits using list comprehension\n",
    "    qubits = [qt.basis(2, 0) for _ in range(number_of_qubits)]\n",
    "\n",
    "    # Add control qubit\n",
    "    qubits.append(qt.basis(2, 1))\n",
    "\n",
    "    Q = None\n",
    "    for qubit in qubits:\n",
    "        if Q:\n",
    "            Q = qt.tensor(Q,qubit)\n",
    "        else:\n",
    "            Q = qt.tensor(qubit)\n",
    "\n",
    "    H = None\n",
    "    for qubit in qubits:\n",
    "        if H:\n",
    "            H = qt.tensor(H,qt.hadamard_transform(1))\n",
    "        else:\n",
    "            H = qt.hadamard_transform(1)\n",
    "    \n",
    "    Uf = np.zeros((string_length*2, string_length*2), dtype=int)\n",
    "    for i in range(string_length):\n",
    "        if haystack[i] == '0':\n",
    "            Uf[i*2,i*2] = '1'\n",
    "            Uf[i*2+1,i*2+1] = '1'\n",
    "        else:\n",
    "            Uf[i*2+1,i*2] = '1'\n",
    "            Uf[i*2,i*2+1] = '1'\n",
    "    \n",
    "    # create HxI, CxZI and XxI gates\n",
    "    HxI_gates = [qt.hadamard_transform(1) for _ in range(len(qubits)-1)]\n",
    "    HxI_gates.append(qt.qeye(2))\n",
    "    HxI = qt.tensor(HxI_gates)\n",
    "\n",
    "    XxI_gates = [qt.sigmax() for _ in range(len(qubits)-1)]\n",
    "    XxI_gates.append(qt.qeye(2))\n",
    "    XxI = qt.tensor(XxI_gates)\n",
    "\n",
    "    CxZI = np.zeros([string_length,string_length])\n",
    "    for i in range(int(string_length-1)):\n",
    "        CxZI[i,i] = 1\n",
    "    CxZI[string_length-1,string_length-1] = -1\n",
    "    CxZI = qt.tensor(qt.Qobj(CxZI), qt.qeye(2))\n",
    "    CxZI.dims = HxI.dims\n",
    "\n",
    "    # Diffusion operator\n",
    "    Dif = HxI * XxI * CxZI * XxI * HxI\n",
    "    \n",
    "    # Begin with applying H to Q\n",
    "    current_state = H * Q\n",
    "\n",
    "    # Now repeat Uf and Dif <repeat> times.  This is the Grover Iteration.\n",
    "    for i in range(int((math.pi/4) * math.sqrt(2**(number_of_qubits)))):\n",
    "        current_state = Uf * current_state\n",
    "        current_state = Dif * current_state\n",
    "        current_state = qt.Qobj(current_state)\n",
    "    return current_state\n"
   ]
  },
  {
   "cell_type": "code",
   "execution_count": 115,
   "id": "8dd689df",
   "metadata": {
    "scrolled": true
   },
   "outputs": [
    {
     "name": "stderr",
     "output_type": "stream",
     "text": [
      "C:\\Users\\lonsd\\AppData\\Local\\Temp\\ipykernel_8264\\3600943078.py:23: DeprecationWarning: Importing functions/classes of the qip submodule directly from the namespace qutip is deprecated. Please import them from the submodule instead, e.g.\n",
      "from qutip.qip.operations import cnot\n",
      "from qutip.qip.circuit import QubitCircuit\n",
      "\n",
      "  H = qt.hadamard_transform(1)\n",
      "C:\\Users\\lonsd\\AppData\\Local\\Temp\\ipykernel_8264\\3600943078.py:21: DeprecationWarning: Importing functions/classes of the qip submodule directly from the namespace qutip is deprecated. Please import them from the submodule instead, e.g.\n",
      "from qutip.qip.operations import cnot\n",
      "from qutip.qip.circuit import QubitCircuit\n",
      "\n",
      "  H = qt.tensor(H,qt.hadamard_transform(1))\n",
      "C:\\Users\\lonsd\\AppData\\Local\\Temp\\ipykernel_8264\\3600943078.py:35: DeprecationWarning: Importing functions/classes of the qip submodule directly from the namespace qutip is deprecated. Please import them from the submodule instead, e.g.\n",
      "from qutip.qip.operations import cnot\n",
      "from qutip.qip.circuit import QubitCircuit\n",
      "\n",
      "  HxI_gates = [qt.hadamard_transform(1) for _ in range(len(qubits)-1)]\n",
      "C:\\Users\\lonsd\\AppData\\Local\\Packages\\PythonSoftwareFoundation.Python.3.10_qbz5n2kfra8p0\\LocalCache\\local-packages\\Python310\\site-packages\\matplotlib\\transforms.py:762: ComplexWarning: Casting complex values to real discards the imaginary part\n",
      "  points = np.asarray(points, float)\n"
     ]
    },
    {
     "data": {
      "image/png": "[encoded data removed]",
      "text/plain": [
       "<Figure size 640x480 with 1 Axes>"
      ]
     },
     "metadata": {},
     "output_type": "display_data"
    }
   ],
   "source": [
    "haystack, needle = generate_search_problem(4)\n",
    "res = grovers_circuit(haystack, needle)\n",
    "pairs = []\n",
    "\n",
    "result = res.full()\n",
    "\n",
    "for i in range(0, len(result), 2):\n",
    "    item = (result[i+1]**2)+(result[i]**2)\n",
    "    pairs.append(item[0])   \n",
    "    \n",
    "# Create a bar chart\n",
    "plt.bar(np.arange(len(list(haystack))), list(haystack), color='#FF007F', label='Original Haystack')\n",
    "plt.bar(np.arange(len(pairs)), pairs,  color='#00D5D5', label='Quantum Search')\n",
    "\n",
    "\n",
    "# Add labels and title\n",
    "plt.xlabel('Index of item in haystack')\n",
    "plt.ylabel('Probability of item being needle')\n",
    "plt.title('Result of Grovers Algorithm')\n",
    "\n",
    "# Display the chart\n",
    "plt.legend()\n",
    "plt.show()"
   ]
  },
  {
   "cell_type": "markdown",
   "id": "c3883351",
   "metadata": {},
   "source": [
    "# "
   ]
  },
  {
   "cell_type": "code",
   "execution_count": null,
   "id": "34d5600d",
   "metadata": {},
   "outputs": [],
   "source": []
  },
  {
   "cell_type": "code",
   "execution_count": null,
   "id": "47a35a03",
   "metadata": {},
   "outputs": [],
   "source": []
  },
  {
   "cell_type": "code",
   "execution_count": null,
   "id": "f08cd1de",
   "metadata": {},
   "outputs": [],
   "source": []
  }
 ],
 "metadata": {
  "kernelspec": {
   "display_name": "Python 3 (ipykernel)",
   "language": "python",
   "name": "python3"
  },
  "language_info": {
   "codemirror_mode": {
    "name": "ipython",
    "version": 3
   },
   "file_extension": ".py",
   "mimetype": "text/x-python",
   "name": "python",
   "nbconvert_exporter": "python",
   "pygments_lexer": "ipython3",
   "version": "3.10.11"
  }
 },
 "nbformat": 4,
 "nbformat_minor": 5
}

{
 "cells": [
  {
   "cell_type": "code",
   "execution_count": 1,
   "id": "6d1c866e",
   "metadata": {},
   "outputs": [],
   "source": [
    "import numpy as np\n",
    "import matplotlib.pyplot as plt\n",
    "import qutip as q"
   ]
  },
  {
   "cell_type": "markdown",
   "id": "cb6f0a59",
   "metadata": {},
   "source": [
    "# Grovers Algorithm \n",
    "## Introduction\n",
    "\n",
    "Time complexity is a representation of the time taken by an algorithm to solve a problem as a function relative to the size of the input data. This property is commonly expressed in $\\mathcal{O}$ (\"Big O\") notation which represents the upper bound of the number of steps needed to solve the problem.\n",
    "\n",
    "If you have $N$ randomly ordered elements and you need to find a particular element, in classical computing the time complexity is $\\mathcal{O}(N)$.\n",
    "\n",
    "In the context of quantum computing, Grover's algorithm seeks to find a particular element with $\\mathcal{O}(\\sqrt{N})$ time complexity. The decreased time complexity is due to the superposition of states, which allows for simultaneous examination of multiple elements.\n",
    "\n",
    "This report aims to examine Grovers Algorithm and create an executable demo using 'qutip' (Quantum Toolbox in Python)\n",
    "\n",
    "by Jessie Lonsdale and Anastasios Mavridis."
   ]
  },
  {
   "cell_type": "code",
   "execution_count": null,
   "id": "d92ade07",
   "metadata": {},
   "outputs": [],
   "source": []
  },
  {
   "cell_type": "code",
   "execution_count": null,
   "id": "7c592a77",
   "metadata": {},
   "outputs": [],
   "source": []
  },
  {
   "cell_type": "code",
   "execution_count": null,
   "id": "5001d263",
   "metadata": {},
   "outputs": [],
   "source": []
  },
  {
   "cell_type": "code",
   "execution_count": null,
   "id": "36804eca",
   "metadata": {},
   "outputs": [],
   "source": []
  }
 ],
 "metadata": {
  "kernelspec": {
   "display_name": "Python 3 (ipykernel)",
   "language": "python",
   "name": "python3"
  },
  "language_info": {
   "codemirror_mode": {
    "name": "ipython",
    "version": 3
   },
   "file_extension": ".py",
   "mimetype": "text/x-python",
   "name": "python",
   "nbconvert_exporter": "python",
   "pygments_lexer": "ipython3",
   "version": "3.10.11"
  }
 },
 "nbformat": 4,
 "nbformat_minor": 5
}

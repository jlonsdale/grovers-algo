{
 "cells": [
  {
   "cell_type": "code",
   "execution_count": 1,
   "id": "6d1c866e",
   "metadata": {},
   "outputs": [],
   "source": [
    "import numpy as np\n",
    "import matplotlib.pyplot as plt\n",
    "import qutip as qt"
   ]
  },
  {
   "cell_type": "markdown",
   "id": "cb6f0a59",
   "metadata": {},
   "source": [
    "# Grovers Algorithm \n",
    "## Introduction\n",
    "\n",
    "Time complexity is a representation of the time taken by an algorithm to solve a problem as a function relative to the size of the input data. This property is commonly expressed in $\\mathcal{O}$ (\"Big O\") notation which represents the upper bound of the number of steps needed to solve the problem.\n",
    "\n",
    "If you have $N$ randomly ordered elements and you need to find a particular element, in classical computing the time complexity is $\\mathcal{O}(N)$.\n",
    "\n",
    "In the context of quantum computing, Grover's algorithm seeks to find a particular element with $\\mathcal{O}(\\sqrt{N})$ time complexity. The decreased time complexity is due to the superposition of states, which allows for simultaneous examination of multiple elements.\n",
    "\n",
    "This report aims to examine Grovers Algorithm and create an executable demo using 'qutip' (Quantum Toolbox in Python)\n",
    "\n",
    "by Jessie Lonsdale and Anastasios Mavridis."
   ]
  },
  {
   "cell_type": "code",
   "execution_count": 2,
   "id": "7c592a77",
   "metadata": {},
   "outputs": [
    {
     "name": "stderr",
     "output_type": "stream",
     "text": [
      "C:\\Users\\lonsd\\AppData\\Local\\Temp\\ipykernel_5508\\4166344295.py:7: DeprecationWarning: Importing functions/classes of the qip submodule directly from the namespace qutip is deprecated. Please import them from the submodule instead, e.g.\n",
      "from qutip.qip.operations import cnot\n",
      "from qutip.qip.circuit import QubitCircuit\n",
      "\n",
      "  hadamard = qt.hadamard_transform(n)\n"
     ]
    },
    {
     "ename": "TypeError",
     "evalue": "Incompatible Qobj shapes",
     "output_type": "error",
     "traceback": [
      "\u001b[1;31m-------------------------------------------------------------------------\u001b[0m",
      "\u001b[1;31mTypeError\u001b[0m                               Traceback (most recent call last)",
      "Cell \u001b[1;32mIn [2], line 15\u001b[0m\n\u001b[0;32m     12\u001b[0m num_iterations \u001b[38;5;241m=\u001b[39m \u001b[38;5;28mint\u001b[39m(np\u001b[38;5;241m.\u001b[39mpi \u001b[38;5;241m/\u001b[39m \u001b[38;5;241m4\u001b[39m \u001b[38;5;241m*\u001b[39m np\u001b[38;5;241m.\u001b[39msqrt(N))\n\u001b[0;32m     14\u001b[0m \u001b[38;5;66;03m# Apply Grover's algorithm\u001b[39;00m\n\u001b[1;32m---> 15\u001b[0m state \u001b[38;5;241m=\u001b[39m \u001b[43mhadamard\u001b[49m\u001b[43m \u001b[49m\u001b[38;5;241;43m*\u001b[39;49m\u001b[43m \u001b[49m\u001b[43mqt\u001b[49m\u001b[38;5;241;43m.\u001b[39;49m\u001b[43mbasis\u001b[49m\u001b[43m(\u001b[49m\u001b[43mN\u001b[49m\u001b[43m,\u001b[49m\u001b[43m \u001b[49m\u001b[38;5;241;43m0\u001b[39;49m\u001b[43m)\u001b[49m\n\u001b[0;32m     16\u001b[0m \u001b[38;5;28;01mfor\u001b[39;00m i \u001b[38;5;129;01min\u001b[39;00m \u001b[38;5;28mrange\u001b[39m(num_iterations):\n\u001b[0;32m     17\u001b[0m     state \u001b[38;5;241m=\u001b[39m diffusion \u001b[38;5;241m*\u001b[39m oracle \u001b[38;5;241m*\u001b[39m state\n",
      "File \u001b[1;32m~\\AppData\\Local\\Packages\\PythonSoftwareFoundation.Python.3.10_qbz5n2kfra8p0\\LocalCache\\local-packages\\Python310\\site-packages\\qutip\\qobj.py:555\u001b[0m, in \u001b[0;36mQobj.__mul__\u001b[1;34m(self, other)\u001b[0m\n\u001b[0;32m    552\u001b[0m         \u001b[38;5;28;01mreturn\u001b[39;00m out\u001b[38;5;241m.\u001b[39mtidyup() \u001b[38;5;28;01mif\u001b[39;00m settings\u001b[38;5;241m.\u001b[39mauto_tidyup \u001b[38;5;28;01melse\u001b[39;00m out\n\u001b[0;32m    554\u001b[0m     \u001b[38;5;28;01melse\u001b[39;00m:\n\u001b[1;32m--> 555\u001b[0m         \u001b[38;5;28;01mraise\u001b[39;00m \u001b[38;5;167;01mTypeError\u001b[39;00m(\u001b[38;5;124m\"\u001b[39m\u001b[38;5;124mIncompatible Qobj shapes\u001b[39m\u001b[38;5;124m\"\u001b[39m)\n\u001b[0;32m    557\u001b[0m \u001b[38;5;28;01melif\u001b[39;00m \u001b[38;5;28misinstance\u001b[39m(other, np\u001b[38;5;241m.\u001b[39mndarray):\n\u001b[0;32m    558\u001b[0m     \u001b[38;5;28;01mif\u001b[39;00m other\u001b[38;5;241m.\u001b[39mdtype \u001b[38;5;241m==\u001b[39m \u001b[38;5;124m'\u001b[39m\u001b[38;5;124mobject\u001b[39m\u001b[38;5;124m'\u001b[39m:\n",
      "\u001b[1;31mTypeError\u001b[0m: Incompatible Qobj shapes"
     ]
    }
   ],
   "source": [
    "# Define the size of the search space and the target state\n",
    "n = 3  # number of qubits\n",
    "N = 2**n  # size of the search space\n",
    "target_state = qt.basis(N, 5)  # the target state we want to find\n",
    "\n",
    "# Create the quantum gates needed for Grover's algorithm\n",
    "hadamard = qt.hadamard_transform(n)\n",
    "oracle = qt.qdiags([1 if i == 5 else -1 for i in range(N)], 0)\n",
    "diffusion = 2 * qt.ket2dm(qt.basis(N, 0)) - np.eye(N)\n",
    "\n",
    "# Define the number of iterations of the algorithm\n",
    "num_iterations = int(np.pi / 4 * np.sqrt(N))\n",
    "\n",
    "# Apply Grover's algorithm\n",
    "state = hadamard * qt.basis(N, 0)\n",
    "for i in range(num_iterations):\n",
    "    state = diffusion * oracle * state\n",
    "\n",
    "# Measure the final state\n",
    "measurement = qt.measure(state, qt.basis(N, 0))\n",
    "print(\"Measured state:\", measurement)\n"
   ]
  },
  {
   "cell_type": "code",
   "execution_count": null,
   "id": "5001d263",
   "metadata": {},
   "outputs": [],
   "source": []
  },
  {
   "cell_type": "code",
   "execution_count": null,
   "id": "36804eca",
   "metadata": {},
   "outputs": [],
   "source": []
  }
 ],
 "metadata": {
  "kernelspec": {
   "display_name": "Python 3 (ipykernel)",
   "language": "python",
   "name": "python3"
  },
  "language_info": {
   "codemirror_mode": {
    "name": "ipython",
    "version": 3
   },
   "file_extension": ".py",
   "mimetype": "text/x-python",
   "name": "python",
   "nbconvert_exporter": "python",
   "pygments_lexer": "ipython3",
   "version": "3.10.11"
  }
 },
 "nbformat": 4,
 "nbformat_minor": 5
}

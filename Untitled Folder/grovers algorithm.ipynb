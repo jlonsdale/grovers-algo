{
 "cells": [
  {
   "cell_type": "code",
   "execution_count": 1,
   "id": "6d1c866e",
   "metadata": {},
   "outputs": [],
   "source": [
    "import numpy as np\n",
    "import matplotlib.pyplot as plt\n",
    "import qutip as q"
   ]
  },
  {
   "cell_type": "markdown",
   "id": "cb6f0a59",
   "metadata": {},
   "source": [
    "# Grovers Algorithm\n",
    "\n",
    "Given an randomly ordered array of N items, where one or more of the items satisfy a certain conditional, Grovers algorithm seeks to find an item that satisfies the property in $\\mathcal{O}(\\sqrt{N})$ time complexity.\n",
    "\n",
    "Initialize a quantum register of n qubits in the state |0⟩$^{\\otimes n}$ and apply a Hadamard gate to each qubit to create a uniform superposition of all possible states:\n",
    "$\\frac{1}{\\sqrt{N}}\\sum_{x=0}^{N-1}|x⟩$\n",
    "\n",
    "Define the oracle U$_\\omega$ which flips the phase of the state |$\\omega$⟩ and leaves all other states unchanged:\n",
    "U$_\\omega$ : |x⟩ $\\rightarrow$ (-1)$^{f(x)}$|x⟩, where f(x)=1 if x=$\\omega$ and f(x)=0 otherwise.\n",
    "\n",
    "Apply the oracle U$_\\omega$ to the quantum register.\n",
    "\n",
    "Define the operator A which reflects the state about the average of all possible states:\n",
    "\n",
    "A : |x⟩ $\\rightarrow$ (2/N - 1)|x⟩ - $\\frac{2}{\\sqrt{N}}\\sum_{y\\neq x}|y⟩$\n",
    "\n",
    "Apply the operator A to the quantum register.\n",
    "\n",
    "Repeat steps 3-5 $\\sqrt{N}$ times.\n",
    "\n",
    "Measure the state of the quantum register. The measurement result will be the item that satisfies the property with high probability."
   ]
  },
  {
   "cell_type": "code",
   "execution_count": 14,
   "id": "d92ade07",
   "metadata": {},
   "outputs": [
    {
     "name": "stdout",
     "output_type": "stream",
     "text": [
      "Quantum object: dims = [[2, 2, 2, 2], [2, 2, 2, 2]], shape = (16, 16), type = oper, isherm = True\n",
      "Qobj data =\n",
      "[[ 0.   0.   0.   0.5  0.   0.   0.   0.5  0.   0.   0.   0.5  0.   0.\n",
      "   0.   0.5]\n",
      " [ 0.   0.   0.5  0.   0.   0.   0.5  0.   0.   0.   0.5  0.   0.   0.\n",
      "   0.5  0. ]\n",
      " [ 0.   0.5  0.   0.   0.   0.5  0.   0.   0.   0.5  0.   0.   0.   0.5\n",
      "   0.   0. ]\n",
      " [ 0.5  0.   0.   0.   0.5  0.   0.   0.   0.5  0.   0.   0.   0.5  0.\n",
      "   0.   0. ]\n",
      " [ 0.   0.   0.   0.5  0.   0.   0.  -0.5  0.   0.   0.   0.5  0.   0.\n",
      "   0.  -0.5]\n",
      " [ 0.   0.   0.5  0.   0.   0.  -0.5  0.   0.   0.   0.5  0.   0.   0.\n",
      "  -0.5  0. ]\n",
      " [ 0.   0.5  0.   0.   0.  -0.5  0.   0.   0.   0.5  0.   0.   0.  -0.5\n",
      "   0.   0. ]\n",
      " [ 0.5  0.   0.   0.  -0.5  0.   0.   0.   0.5  0.   0.   0.  -0.5  0.\n",
      "   0.   0. ]\n",
      " [ 0.   0.   0.   0.5  0.   0.   0.   0.5  0.   0.   0.  -0.5  0.   0.\n",
      "   0.  -0.5]\n",
      " [ 0.   0.   0.5  0.   0.   0.   0.5  0.   0.   0.  -0.5  0.   0.   0.\n",
      "  -0.5  0. ]\n",
      " [ 0.   0.5  0.   0.   0.   0.5  0.   0.   0.  -0.5  0.   0.   0.  -0.5\n",
      "   0.   0. ]\n",
      " [ 0.5  0.   0.   0.   0.5  0.   0.   0.  -0.5  0.   0.   0.  -0.5  0.\n",
      "   0.   0. ]\n",
      " [ 0.   0.   0.   0.5  0.   0.   0.  -0.5  0.   0.   0.  -0.5  0.   0.\n",
      "   0.   0.5]\n",
      " [ 0.   0.   0.5  0.   0.   0.  -0.5  0.   0.   0.  -0.5  0.   0.   0.\n",
      "   0.5  0. ]\n",
      " [ 0.   0.5  0.   0.   0.  -0.5  0.   0.   0.  -0.5  0.   0.   0.   0.5\n",
      "   0.   0. ]\n",
      " [ 0.5  0.   0.   0.  -0.5  0.   0.   0.  -0.5  0.   0.   0.   0.5  0.\n",
      "   0.   0. ]]\n",
      "Quantum object: dims = [[2, 2, 2], [1, 2, 1]], shape = (8, 2), type = oper, isherm = False\n",
      "Qobj data =\n",
      "[[0. 1.]\n",
      " [0. 0.]\n",
      " [1. 0.]\n",
      " [0. 0.]\n",
      " [0. 0.]\n",
      " [0. 0.]\n",
      " [0. 0.]\n",
      " [0. 0.]]\n"
     ]
    },
    {
     "name": "stderr",
     "output_type": "stream",
     "text": [
      "C:\\Users\\lonsd\\AppData\\Local\\Temp\\ipykernel_5748\\2946218491.py:16: DeprecationWarning: Importing functions/classes of the qip submodule directly from the namespace qutip is deprecated. Please import them from the submodule instead, e.g.\n",
      "from qutip.qip.operations import cnot\n",
      "from qutip.qip.circuit import QubitCircuit\n",
      "\n",
      "  diffusion = q.tensor(q.hadamard_transform(n), *[q.sigmax() for i in range(n)])\n"
     ]
    },
    {
     "ename": "TypeError",
     "evalue": "Incompatible Qobj shapes",
     "output_type": "error",
     "traceback": [
      "\u001b[1;31m---------------------------------------------------------------------------\u001b[0m",
      "\u001b[1;31mTypeError\u001b[0m                                 Traceback (most recent call last)",
      "Cell \u001b[1;32mIn[14], line 23\u001b[0m\n\u001b[0;32m     19\u001b[0m \u001b[38;5;28mprint\u001b[39m(oracle)\n\u001b[0;32m     22\u001b[0m \u001b[38;5;66;03m# Define the Grover iteration as a quantum circuit\u001b[39;00m\n\u001b[1;32m---> 23\u001b[0m grover_iteration \u001b[38;5;241m=\u001b[39m \u001b[43mdiffusion\u001b[49m\u001b[43m \u001b[49m\u001b[38;5;241;43m*\u001b[39;49m\u001b[43m \u001b[49m\u001b[43moracle\u001b[49m\n\u001b[0;32m     25\u001b[0m \u001b[38;5;66;03m# Run the algorithm for the specified number of iterations\u001b[39;00m\n\u001b[0;32m     26\u001b[0m state \u001b[38;5;241m=\u001b[39m initial_state\n",
      "File \u001b[1;32mC:\\Python311\\Lib\\site-packages\\qutip\\qobj.py:555\u001b[0m, in \u001b[0;36mQobj.__mul__\u001b[1;34m(self, other)\u001b[0m\n\u001b[0;32m    552\u001b[0m         \u001b[38;5;28;01mreturn\u001b[39;00m out\u001b[38;5;241m.\u001b[39mtidyup() \u001b[38;5;28;01mif\u001b[39;00m settings\u001b[38;5;241m.\u001b[39mauto_tidyup \u001b[38;5;28;01melse\u001b[39;00m out\n\u001b[0;32m    554\u001b[0m     \u001b[38;5;28;01melse\u001b[39;00m:\n\u001b[1;32m--> 555\u001b[0m         \u001b[38;5;28;01mraise\u001b[39;00m \u001b[38;5;167;01mTypeError\u001b[39;00m(\u001b[38;5;124m\"\u001b[39m\u001b[38;5;124mIncompatible Qobj shapes\u001b[39m\u001b[38;5;124m\"\u001b[39m)\n\u001b[0;32m    557\u001b[0m \u001b[38;5;28;01melif\u001b[39;00m \u001b[38;5;28misinstance\u001b[39m(other, np\u001b[38;5;241m.\u001b[39mndarray):\n\u001b[0;32m    558\u001b[0m     \u001b[38;5;28;01mif\u001b[39;00m other\u001b[38;5;241m.\u001b[39mdtype \u001b[38;5;241m==\u001b[39m \u001b[38;5;124m'\u001b[39m\u001b[38;5;124mobject\u001b[39m\u001b[38;5;124m'\u001b[39m:\n",
      "\u001b[1;31mTypeError\u001b[0m: Incompatible Qobj shapes"
     ]
    }
   ],
   "source": [
    "# Define the size of the database and the number of iterations to run Grover's algorithm\n",
    "n = 2\n",
    "iterations = 1\n",
    "\n",
    "# Define the quantum states used in the algorithm\n",
    "zero_state = q.basis(2, 0)  # |0>\n",
    "one_state = q.basis(2, 1)   # |1>\n",
    "\n",
    "# Define the initial state for the algorithm\n",
    "initial_state = q.tensor(zero_state, *[one_state for i in range(n)])\n",
    "\n",
    "# Define the oracle function that marks the desired element\n",
    "oracle = q.tensor(zero_state, q.sigmax(), zero_state)\n",
    "\n",
    "# Define the diffusion operator\n",
    "diffusion = q.tensor(q.hadamard_transform(n), *[q.sigmax() for i in range(n)])\n",
    "\n",
    "print(diffusion)\n",
    "print(oracle)\n",
    "\n",
    "\n",
    "# Define the Grover iteration as a quantum circuit\n",
    "grover_iteration = diffusion * oracle\n",
    "\n",
    "# Run the algorithm for the specified number of iterations\n",
    "state = initial_state\n",
    "for i in range(iterations):\n",
    "    state = grover_iteration * state\n",
    "\n",
    "# Measure the final state to obtain the marked element\n",
    "probs = q.probabilities(state)\n",
    "for key, val in probs.items():\n",
    "    if key.count('1') == 1:  # check if only one qubit is in state |1>\n",
    "        marked_element = int(key, 2)\n",
    "        print(f\"Marked element: {marked_element}\")\n",
    "        break\n"
   ]
  },
  {
   "cell_type": "code",
   "execution_count": null,
   "id": "7c592a77",
   "metadata": {},
   "outputs": [],
   "source": []
  },
  {
   "cell_type": "code",
   "execution_count": null,
   "id": "5001d263",
   "metadata": {},
   "outputs": [],
   "source": []
  },
  {
   "cell_type": "code",
   "execution_count": null,
   "id": "36804eca",
   "metadata": {},
   "outputs": [],
   "source": []
  }
 ],
 "metadata": {
  "kernelspec": {
   "display_name": "Python 3 (ipykernel)",
   "language": "python",
   "name": "python3"
  },
  "language_info": {
   "codemirror_mode": {
    "name": "ipython",
    "version": 3
   },
   "file_extension": ".py",
   "mimetype": "text/x-python",
   "name": "python",
   "nbconvert_exporter": "python",
   "pygments_lexer": "ipython3",
   "version": "3.11.0"
  }
 },
 "nbformat": 4,
 "nbformat_minor": 5
}
